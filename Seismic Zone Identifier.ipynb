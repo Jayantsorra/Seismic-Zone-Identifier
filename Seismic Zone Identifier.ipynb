{
 "cells": [
  {
   "cell_type": "code",
   "execution_count": 3,
   "id": "5a9013af-5c17-4cbb-8eb7-5de27c8ab68e",
   "metadata": {},
   "outputs": [
    {
     "name": "stdin",
     "output_type": "stream",
     "text": [
      "Enter zone name (or type 'done' to finish):  a\n",
      "Enter minimum latitude for zone a:  -90\n",
      "Enter maximum latitude for zone a:  -45\n",
      "Enter minimum longitude for zone a:  -180\n",
      "Enter maximum longitude for zone a:  -90\n",
      "Enter zone name (or type 'done' to finish):  b\n",
      "Enter minimum latitude for zone b:  -90\n",
      "Enter maximum latitude for zone b:  -45\n",
      "Enter minimum longitude for zone b:  -90\n",
      "Enter maximum longitude for zone b:  0\n",
      "Enter zone name (or type 'done' to finish):  done\n",
      "Enter latitude (-90 to 90):  -60\n",
      "Enter longitude (-180 to 180):  -120\n"
     ]
    },
    {
     "name": "stdout",
     "output_type": "stream",
     "text": [
      "The location is in seismic zone a.\n"
     ]
    }
   ],
   "source": [
    "# Function to create seismic zone data based on user input\n",
    "def create_seismic_zones():\n",
    "    seismic_zones = []\n",
    "    while True:\n",
    "        try:\n",
    "            zone_name = input(\"Enter zone name (or type 'done' to finish): \")\n",
    "            if zone_name.lower() == 'done':\n",
    "                break\n",
    "            min_latitude = float(input(f\"Enter minimum latitude for zone {zone_name}: \"))\n",
    "            max_latitude = float(input(f\"Enter maximum latitude for zone {zone_name}: \"))\n",
    "            min_longitude = float(input(f\"Enter minimum longitude for zone {zone_name}: \"))\n",
    "            max_longitude = float(input(f\"Enter maximum longitude for zone {zone_name}: \"))\n",
    "            seismic_zones.append({'zone': zone_name, 'min_latitude': min_latitude, \n",
    "                                  'max_latitude': max_latitude, 'min_longitude': min_longitude, \n",
    "                                  'max_longitude': max_longitude})\n",
    "        except ValueError:\n",
    "            print(\"Invalid input. Latitude and longitude must be numeric.\")\n",
    "    return seismic_zones\n",
    "\n",
    "# Function to determine the seismic zone based on user-provided coordinates\n",
    "def get_seismic_zone(latitude, longitude, seismic_zones):\n",
    "    for zone in seismic_zones:\n",
    "        if zone['min_latitude'] <= latitude <= zone['max_latitude'] \\\n",
    "                and zone['min_longitude'] <= longitude <= zone['max_longitude']:\n",
    "            return zone['zone']\n",
    "    return None\n",
    "\n",
    "# Main function to interact with the user\n",
    "def main():\n",
    "    seismic_zones = create_seismic_zones()\n",
    "    \n",
    "    try:\n",
    "        latitude = float(input(\"Enter latitude (-90 to 90): \"))\n",
    "        longitude = float(input(\"Enter longitude (-180 to 180): \"))\n",
    "        \n",
    "        if -90 <= latitude <= 90 and -180 <= longitude <= 180:\n",
    "            zone = get_seismic_zone(latitude, longitude, seismic_zones)\n",
    "            if zone:\n",
    "                print(f\"The location is in seismic zone {zone}.\")\n",
    "            else:\n",
    "                print(\"The location is not within any known seismic zone.\")\n",
    "        else:\n",
    "            print(\"Invalid latitude or longitude.\")\n",
    "    except ValueError:\n",
    "        print(\"Invalid input. Latitude and longitude must be numeric.\")\n",
    "\n",
    "if __name__ == \"__main__\":\n",
    "    main()"
   ]
  },
  {
   "cell_type": "code",
   "execution_count": null,
   "id": "2497fb3a-e048-4c1c-8d11-90ee1a4dc4ad",
   "metadata": {},
   "outputs": [],
   "source": []
  }
 ],
 "metadata": {
  "kernelspec": {
   "display_name": "Python 3 (ipykernel)",
   "language": "python",
   "name": "python3"
  },
  "language_info": {
   "codemirror_mode": {
    "name": "ipython",
    "version": 3
   },
   "file_extension": ".py",
   "mimetype": "text/x-python",
   "name": "python",
   "nbconvert_exporter": "python",
   "pygments_lexer": "ipython3",
   "version": "3.11.7"
  }
 },
 "nbformat": 4,
 "nbformat_minor": 5
}
